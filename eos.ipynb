{
 "cells": [
  {
   "cell_type": "code",
   "execution_count": 154,
   "metadata": {},
   "outputs": [],
   "source": [
    "import pandas as pd\n",
    "import numpy as np\n",
    "import matplotlib.pyplot as plt\n",
    "import datetime\n",
    "from dateutil.parser import parse"
   ]
  },
  {
   "cell_type": "code",
   "execution_count": 155,
   "metadata": {},
   "outputs": [],
   "source": [
    "df = pd.read_csv('ZRX_train.csv')\n",
    "#wan = pd.read_csv('WAN_train.csv')\n",
    "#trx = pd.read_csv('TRX_train.csv')\n",
    "#eos = pd.read_csv('EOS_train.csv')\n",
    "#drgn = pd.read_csv('DRGN_train.csv')*/\n"
   ]
  },
  {
   "cell_type": "code",
   "execution_count": 156,
   "metadata": {},
   "outputs": [
    {
     "data": {
      "text/plain": [
       "(51230, 4)"
      ]
     },
     "execution_count": 156,
     "metadata": {},
     "output_type": "execute_result"
    }
   ],
   "source": [
    "df.shape"
   ]
  },
  {
   "cell_type": "code",
   "execution_count": 157,
   "metadata": {},
   "outputs": [
    {
     "data": {
      "text/html": [
       "<div>\n",
       "<table border=\"1\" class=\"dataframe\">\n",
       "  <thead>\n",
       "    <tr style=\"text-align: right;\">\n",
       "      <th></th>\n",
       "      <th>from</th>\n",
       "      <th>to</th>\n",
       "      <th>value</th>\n",
       "      <th>timestamp</th>\n",
       "    </tr>\n",
       "  </thead>\n",
       "  <tbody>\n",
       "    <tr>\n",
       "      <th>0</th>\n",
       "      <td>1357e3</td>\n",
       "      <td>f4b1c</td>\n",
       "      <td>1.635000e+20</td>\n",
       "      <td>1520370512</td>\n",
       "    </tr>\n",
       "    <tr>\n",
       "      <th>1</th>\n",
       "      <td>148b15</td>\n",
       "      <td>2be22</td>\n",
       "      <td>1.000000e+19</td>\n",
       "      <td>1520370524</td>\n",
       "    </tr>\n",
       "    <tr>\n",
       "      <th>2</th>\n",
       "      <td>2be22</td>\n",
       "      <td>d521c</td>\n",
       "      <td>8.888720e+18</td>\n",
       "      <td>1520370524</td>\n",
       "    </tr>\n",
       "    <tr>\n",
       "      <th>3</th>\n",
       "      <td>148b15</td>\n",
       "      <td>2be22</td>\n",
       "      <td>2.000000e+20</td>\n",
       "      <td>1520370524</td>\n",
       "    </tr>\n",
       "    <tr>\n",
       "      <th>4</th>\n",
       "      <td>2be22</td>\n",
       "      <td>a9d33</td>\n",
       "      <td>1.989898e+20</td>\n",
       "      <td>1520370524</td>\n",
       "    </tr>\n",
       "  </tbody>\n",
       "</table>\n",
       "</div>"
      ],
      "text/plain": [
       "     from     to         value   timestamp\n",
       "0  1357e3  f4b1c  1.635000e+20  1520370512\n",
       "1  148b15  2be22  1.000000e+19  1520370524\n",
       "2   2be22  d521c  8.888720e+18  1520370524\n",
       "3  148b15  2be22  2.000000e+20  1520370524\n",
       "4   2be22  a9d33  1.989898e+20  1520370524"
      ]
     },
     "execution_count": 157,
     "metadata": {},
     "output_type": "execute_result"
    }
   ],
   "source": [
    "df.head()"
   ]
  },
  {
   "cell_type": "code",
   "execution_count": 158,
   "metadata": {},
   "outputs": [],
   "source": [
    "df['value'] = df['value']*1e-18"
   ]
  },
  {
   "cell_type": "markdown",
   "metadata": {},
   "source": [
    "# теперь графики"
   ]
  },
  {
   "cell_type": "code",
   "execution_count": 159,
   "metadata": {},
   "outputs": [
    {
     "data": {
      "text/html": [
       "<div>\n",
       "<table border=\"1\" class=\"dataframe\">\n",
       "  <thead>\n",
       "    <tr style=\"text-align: right;\">\n",
       "      <th></th>\n",
       "      <th>from</th>\n",
       "      <th>to</th>\n",
       "      <th>value</th>\n",
       "      <th>timestamp</th>\n",
       "    </tr>\n",
       "  </thead>\n",
       "  <tbody>\n",
       "    <tr>\n",
       "      <th>0</th>\n",
       "      <td>1357e3</td>\n",
       "      <td>f4b1c</td>\n",
       "      <td>163.50000</td>\n",
       "      <td>1520370512</td>\n",
       "    </tr>\n",
       "    <tr>\n",
       "      <th>1</th>\n",
       "      <td>148b15</td>\n",
       "      <td>2be22</td>\n",
       "      <td>10.00000</td>\n",
       "      <td>1520370524</td>\n",
       "    </tr>\n",
       "    <tr>\n",
       "      <th>2</th>\n",
       "      <td>2be22</td>\n",
       "      <td>d521c</td>\n",
       "      <td>8.88872</td>\n",
       "      <td>1520370524</td>\n",
       "    </tr>\n",
       "    <tr>\n",
       "      <th>3</th>\n",
       "      <td>148b15</td>\n",
       "      <td>2be22</td>\n",
       "      <td>200.00000</td>\n",
       "      <td>1520370524</td>\n",
       "    </tr>\n",
       "    <tr>\n",
       "      <th>4</th>\n",
       "      <td>2be22</td>\n",
       "      <td>a9d33</td>\n",
       "      <td>198.98984</td>\n",
       "      <td>1520370524</td>\n",
       "    </tr>\n",
       "  </tbody>\n",
       "</table>\n",
       "</div>"
      ],
      "text/plain": [
       "     from     to      value   timestamp\n",
       "0  1357e3  f4b1c  163.50000  1520370512\n",
       "1  148b15  2be22   10.00000  1520370524\n",
       "2   2be22  d521c    8.88872  1520370524\n",
       "3  148b15  2be22  200.00000  1520370524\n",
       "4   2be22  a9d33  198.98984  1520370524"
      ]
     },
     "execution_count": 159,
     "metadata": {},
     "output_type": "execute_result"
    }
   ],
   "source": [
    "df.head()"
   ]
  },
  {
   "cell_type": "code",
   "execution_count": 160,
   "metadata": {},
   "outputs": [
    {
     "data": {
      "text/plain": [
       "array([['1357e3', 'f4b1c', 163.5, 1520370512],\n",
       "       ['148b15', '2be22', 10.0, 1520370524],\n",
       "       ['2be22', 'd521c', 8.888720000000001, 1520370524],\n",
       "       ..., \n",
       "       ['1266f1', 'f9e34', 185163.73700000002, 1520971137],\n",
       "       ['4731c', '113582', 2540.0, 1520971146],\n",
       "       ['742f5', '134e6d', 69115.59127245001, 1520971167]], dtype=object)"
      ]
     },
     "execution_count": 160,
     "metadata": {},
     "output_type": "execute_result"
    }
   ],
   "source": [
    "df.values"
   ]
  },
  {
   "cell_type": "code",
   "execution_count": 161,
   "metadata": {},
   "outputs": [],
   "source": [
    "data = []\n",
    "for fromx, tox, value, ts in df.values:\n",
    "    data.append([fromx, -value, datetime.datetime.fromtimestamp(ts)])\n",
    "    data.append([tox, value, datetime.datetime.fromtimestamp(ts)])"
   ]
  },
  {
   "cell_type": "code",
   "execution_count": 162,
   "metadata": {},
   "outputs": [],
   "source": [
    "df2 = pd.DataFrame(data, columns = ['wallet', 'value', 'ts'])"
   ]
  },
  {
   "cell_type": "code",
   "execution_count": 163,
   "metadata": {},
   "outputs": [],
   "source": [
    "df2.to_csv('dataZRX.csv', index = False)"
   ]
  },
  {
   "cell_type": "code",
   "execution_count": 164,
   "metadata": {},
   "outputs": [
    {
     "data": {
      "text/html": [
       "<div>\n",
       "<table border=\"1\" class=\"dataframe\">\n",
       "  <thead>\n",
       "    <tr style=\"text-align: right;\">\n",
       "      <th></th>\n",
       "      <th>wallet</th>\n",
       "      <th>value</th>\n",
       "      <th>ts</th>\n",
       "    </tr>\n",
       "  </thead>\n",
       "  <tbody>\n",
       "    <tr>\n",
       "      <th>0</th>\n",
       "      <td>1357e3</td>\n",
       "      <td>-163.50000</td>\n",
       "      <td>2018-03-07 00:08:32</td>\n",
       "    </tr>\n",
       "    <tr>\n",
       "      <th>1</th>\n",
       "      <td>f4b1c</td>\n",
       "      <td>163.50000</td>\n",
       "      <td>2018-03-07 00:08:32</td>\n",
       "    </tr>\n",
       "    <tr>\n",
       "      <th>2</th>\n",
       "      <td>148b15</td>\n",
       "      <td>-10.00000</td>\n",
       "      <td>2018-03-07 00:08:44</td>\n",
       "    </tr>\n",
       "    <tr>\n",
       "      <th>3</th>\n",
       "      <td>2be22</td>\n",
       "      <td>10.00000</td>\n",
       "      <td>2018-03-07 00:08:44</td>\n",
       "    </tr>\n",
       "    <tr>\n",
       "      <th>4</th>\n",
       "      <td>2be22</td>\n",
       "      <td>-8.88872</td>\n",
       "      <td>2018-03-07 00:08:44</td>\n",
       "    </tr>\n",
       "  </tbody>\n",
       "</table>\n",
       "</div>"
      ],
      "text/plain": [
       "   wallet      value                  ts\n",
       "0  1357e3 -163.50000 2018-03-07 00:08:32\n",
       "1   f4b1c  163.50000 2018-03-07 00:08:32\n",
       "2  148b15  -10.00000 2018-03-07 00:08:44\n",
       "3   2be22   10.00000 2018-03-07 00:08:44\n",
       "4   2be22   -8.88872 2018-03-07 00:08:44"
      ]
     },
     "execution_count": 164,
     "metadata": {},
     "output_type": "execute_result"
    }
   ],
   "source": [
    "df2.head()"
   ]
  },
  {
   "cell_type": "code",
   "execution_count": 165,
   "metadata": {},
   "outputs": [
    {
     "data": {
      "text/plain": [
       "-2899900.2287356183"
      ]
     },
     "execution_count": 165,
     "metadata": {},
     "output_type": "execute_result"
    }
   ],
   "source": [
    "sum(df2[['wallet', 'value']].groupby('wallet').sum().reset_index().\\\n",
    "    sort_values(by = 'value', ascending = False).head(5).value) + \\\n",
    "sum(df2[['wallet', 'value']].groupby('wallet').sum().reset_index().\\\n",
    "    sort_values(by = 'value', ascending = True).head(5).value)"
   ]
  },
  {
   "cell_type": "code",
   "execution_count": 269,
   "metadata": {},
   "outputs": [
    {
     "data": {
      "text/html": [
       "<div>\n",
       "<table border=\"1\" class=\"dataframe\">\n",
       "  <thead>\n",
       "    <tr style=\"text-align: right;\">\n",
       "      <th></th>\n",
       "      <th>wallet</th>\n",
       "      <th>value</th>\n",
       "    </tr>\n",
       "  </thead>\n",
       "  <tbody>\n",
       "    <tr>\n",
       "      <th>1518</th>\n",
       "      <td>113582</td>\n",
       "      <td>8.459850e+06</td>\n",
       "    </tr>\n",
       "    <tr>\n",
       "      <th>393</th>\n",
       "      <td>104fc4</td>\n",
       "      <td>4.678241e+06</td>\n",
       "    </tr>\n",
       "    <tr>\n",
       "      <th>5112</th>\n",
       "      <td>141f31</td>\n",
       "      <td>3.390973e+06</td>\n",
       "    </tr>\n",
       "    <tr>\n",
       "      <th>13024</th>\n",
       "      <td>6b5cd</td>\n",
       "      <td>3.050000e+06</td>\n",
       "    </tr>\n",
       "    <tr>\n",
       "      <th>10872</th>\n",
       "      <td>5039</td>\n",
       "      <td>2.573994e+06</td>\n",
       "    </tr>\n",
       "    <tr>\n",
       "      <th>17802</th>\n",
       "      <td>a6ae</td>\n",
       "      <td>2.427210e+06</td>\n",
       "    </tr>\n",
       "    <tr>\n",
       "      <th>4910</th>\n",
       "      <td>13f4c9</td>\n",
       "      <td>2.318711e+06</td>\n",
       "    </tr>\n",
       "    <tr>\n",
       "      <th>5538</th>\n",
       "      <td>14776d</td>\n",
       "      <td>2.020713e+06</td>\n",
       "    </tr>\n",
       "    <tr>\n",
       "      <th>24535</th>\n",
       "      <td>fc215</td>\n",
       "      <td>1.733558e+06</td>\n",
       "    </tr>\n",
       "    <tr>\n",
       "      <th>18374</th>\n",
       "      <td>ad691</td>\n",
       "      <td>1.241833e+06</td>\n",
       "    </tr>\n",
       "    <tr>\n",
       "      <th>11369</th>\n",
       "      <td>565e2</td>\n",
       "      <td>1.078957e+06</td>\n",
       "    </tr>\n",
       "    <tr>\n",
       "      <th>8594</th>\n",
       "      <td>321d0</td>\n",
       "      <td>1.054931e+06</td>\n",
       "    </tr>\n",
       "    <tr>\n",
       "      <th>6664</th>\n",
       "      <td>1a4ac</td>\n",
       "      <td>9.927968e+05</td>\n",
       "    </tr>\n",
       "    <tr>\n",
       "      <th>3339</th>\n",
       "      <td>12ada4</td>\n",
       "      <td>9.287983e+05</td>\n",
       "    </tr>\n",
       "    <tr>\n",
       "      <th>21938</th>\n",
       "      <td>daee4</td>\n",
       "      <td>8.847243e+05</td>\n",
       "    </tr>\n",
       "    <tr>\n",
       "      <th>21783</th>\n",
       "      <td>d9006</td>\n",
       "      <td>5.442671e+05</td>\n",
       "    </tr>\n",
       "    <tr>\n",
       "      <th>10331</th>\n",
       "      <td>494fc</td>\n",
       "      <td>5.332114e+05</td>\n",
       "    </tr>\n",
       "    <tr>\n",
       "      <th>860</th>\n",
       "      <td>10b160</td>\n",
       "      <td>5.000000e+05</td>\n",
       "    </tr>\n",
       "    <tr>\n",
       "      <th>6413</th>\n",
       "      <td>1758a</td>\n",
       "      <td>4.722642e+05</td>\n",
       "    </tr>\n",
       "    <tr>\n",
       "      <th>13815</th>\n",
       "      <td>75a39</td>\n",
       "      <td>4.504444e+05</td>\n",
       "    </tr>\n",
       "  </tbody>\n",
       "</table>\n",
       "</div>"
      ],
      "text/plain": [
       "       wallet         value\n",
       "1518   113582  8.459850e+06\n",
       "393    104fc4  4.678241e+06\n",
       "5112   141f31  3.390973e+06\n",
       "13024   6b5cd  3.050000e+06\n",
       "10872    5039  2.573994e+06\n",
       "17802    a6ae  2.427210e+06\n",
       "4910   13f4c9  2.318711e+06\n",
       "5538   14776d  2.020713e+06\n",
       "24535   fc215  1.733558e+06\n",
       "18374   ad691  1.241833e+06\n",
       "11369   565e2  1.078957e+06\n",
       "8594    321d0  1.054931e+06\n",
       "6664    1a4ac  9.927968e+05\n",
       "3339   12ada4  9.287983e+05\n",
       "21938   daee4  8.847243e+05\n",
       "21783   d9006  5.442671e+05\n",
       "10331   494fc  5.332114e+05\n",
       "860    10b160  5.000000e+05\n",
       "6413    1758a  4.722642e+05\n",
       "13815   75a39  4.504444e+05"
      ]
     },
     "execution_count": 269,
     "metadata": {},
     "output_type": "execute_result"
    }
   ],
   "source": [
    "df2[['wallet', 'value']].groupby('wallet').sum().reset_index().\\\n",
    "    sort_values(by = 'value', ascending = False).head(20)"
   ]
  },
  {
   "cell_type": "code",
   "execution_count": 270,
   "metadata": {},
   "outputs": [],
   "source": [
    "top_senders = df2[['wallet', 'value']].groupby('wallet').count().reset_index().\\\n",
    "    sort_values(by = 'value', ascending = False).head(20)"
   ]
  },
  {
   "cell_type": "code",
   "execution_count": 271,
   "metadata": {},
   "outputs": [
    {
     "data": {
      "text/html": [
       "<div>\n",
       "<table border=\"1\" class=\"dataframe\">\n",
       "  <thead>\n",
       "    <tr style=\"text-align: right;\">\n",
       "      <th></th>\n",
       "      <th>wallet</th>\n",
       "      <th>value</th>\n",
       "    </tr>\n",
       "  </thead>\n",
       "  <tbody>\n",
       "    <tr>\n",
       "      <th>1410</th>\n",
       "      <td>11243</td>\n",
       "      <td>6945</td>\n",
       "    </tr>\n",
       "    <tr>\n",
       "      <th>1518</th>\n",
       "      <td>113582</td>\n",
       "      <td>6319</td>\n",
       "    </tr>\n",
       "    <tr>\n",
       "      <th>393</th>\n",
       "      <td>104fc4</td>\n",
       "      <td>3867</td>\n",
       "    </tr>\n",
       "    <tr>\n",
       "      <th>4142</th>\n",
       "      <td>134e6d</td>\n",
       "      <td>3357</td>\n",
       "    </tr>\n",
       "    <tr>\n",
       "      <th>2080</th>\n",
       "      <td>11aad9</td>\n",
       "      <td>2407</td>\n",
       "    </tr>\n",
       "  </tbody>\n",
       "</table>\n",
       "</div>"
      ],
      "text/plain": [
       "      wallet  value\n",
       "1410   11243   6945\n",
       "1518  113582   6319\n",
       "393   104fc4   3867\n",
       "4142  134e6d   3357\n",
       "2080  11aad9   2407"
      ]
     },
     "execution_count": 271,
     "metadata": {},
     "output_type": "execute_result"
    }
   ],
   "source": [
    "top_senders.head()"
   ]
  },
  {
   "cell_type": "code",
   "execution_count": 272,
   "metadata": {},
   "outputs": [],
   "source": [
    "lst_senders = list(top_senders.wallet.values)"
   ]
  },
  {
   "cell_type": "code",
   "execution_count": 273,
   "metadata": {},
   "outputs": [
    {
     "data": {
      "text/plain": [
       "['11243',\n",
       " '113582',\n",
       " '104fc4',\n",
       " '134e6d',\n",
       " '11aad9',\n",
       " 'ad23a',\n",
       " '92a54',\n",
       " '2be22',\n",
       " '6173',\n",
       " '67970',\n",
       " 'a387b',\n",
       " '742f5',\n",
       " '80c6a',\n",
       " '10cc0d',\n",
       " '134ee1',\n",
       " '68fbf',\n",
       " '28a6e',\n",
       " 'ad691',\n",
       " '5bfc2',\n",
       " '53b4e']"
      ]
     },
     "execution_count": 273,
     "metadata": {},
     "output_type": "execute_result"
    }
   ],
   "source": [
    "lst_senders"
   ]
  },
  {
   "cell_type": "code",
   "execution_count": 274,
   "metadata": {},
   "outputs": [],
   "source": [
    "%matplotlib qt"
   ]
  },
  {
   "cell_type": "markdown",
   "metadata": {},
   "source": [
    "# цены"
   ]
  },
  {
   "cell_type": "code",
   "execution_count": 275,
   "metadata": {},
   "outputs": [],
   "source": [
    "prices = pd.read_csv('tickers_train.csv')"
   ]
  },
  {
   "cell_type": "code",
   "execution_count": 276,
   "metadata": {},
   "outputs": [],
   "source": [
    "prices['datetime'] = pd.to_datetime(prices['datetime'])\n",
    "prices['priceBtc'] = prices['priceBtc'] * 100000000000\n",
    "prices['priceUsd'] = prices['priceUsd'] * 10000000"
   ]
  },
  {
   "cell_type": "code",
   "execution_count": 277,
   "metadata": {},
   "outputs": [
    {
     "data": {
      "text/html": [
       "<div>\n",
       "<table border=\"1\" class=\"dataframe\">\n",
       "  <thead>\n",
       "    <tr style=\"text-align: right;\">\n",
       "      <th></th>\n",
       "      <th>Unnamed: 0</th>\n",
       "      <th>datetime</th>\n",
       "      <th>name</th>\n",
       "      <th>priceBtc</th>\n",
       "      <th>priceUsd</th>\n",
       "      <th>ticker</th>\n",
       "      <th>volume</th>\n",
       "    </tr>\n",
       "  </thead>\n",
       "  <tbody>\n",
       "    <tr>\n",
       "      <th>0</th>\n",
       "      <td>0</td>\n",
       "      <td>2018-03-01 00:00:00</td>\n",
       "      <td>0x</td>\n",
       "      <td>8.721968e+06</td>\n",
       "      <td>9.022780e+06</td>\n",
       "      <td>ZRX</td>\n",
       "      <td>8127100.0</td>\n",
       "    </tr>\n",
       "    <tr>\n",
       "      <th>1</th>\n",
       "      <td>1</td>\n",
       "      <td>2018-03-01 02:00:00</td>\n",
       "      <td>0x</td>\n",
       "      <td>8.637269e+06</td>\n",
       "      <td>8.951068e+06</td>\n",
       "      <td>ZRX</td>\n",
       "      <td>7962720.0</td>\n",
       "    </tr>\n",
       "    <tr>\n",
       "      <th>2</th>\n",
       "      <td>2</td>\n",
       "      <td>2018-03-01 04:00:00</td>\n",
       "      <td>0x</td>\n",
       "      <td>8.808431e+06</td>\n",
       "      <td>9.170945e+06</td>\n",
       "      <td>ZRX</td>\n",
       "      <td>7980440.0</td>\n",
       "    </tr>\n",
       "    <tr>\n",
       "      <th>3</th>\n",
       "      <td>3</td>\n",
       "      <td>2018-03-01 06:00:00</td>\n",
       "      <td>0x</td>\n",
       "      <td>8.726722e+06</td>\n",
       "      <td>9.102949e+06</td>\n",
       "      <td>ZRX</td>\n",
       "      <td>7554380.0</td>\n",
       "    </tr>\n",
       "    <tr>\n",
       "      <th>4</th>\n",
       "      <td>4</td>\n",
       "      <td>2018-03-01 08:00:00</td>\n",
       "      <td>0x</td>\n",
       "      <td>8.740869e+06</td>\n",
       "      <td>9.274604e+06</td>\n",
       "      <td>ZRX</td>\n",
       "      <td>7468790.0</td>\n",
       "    </tr>\n",
       "  </tbody>\n",
       "</table>\n",
       "</div>"
      ],
      "text/plain": [
       "   Unnamed: 0            datetime name      priceBtc      priceUsd ticker  \\\n",
       "0           0 2018-03-01 00:00:00   0x  8.721968e+06  9.022780e+06    ZRX   \n",
       "1           1 2018-03-01 02:00:00   0x  8.637269e+06  8.951068e+06    ZRX   \n",
       "2           2 2018-03-01 04:00:00   0x  8.808431e+06  9.170945e+06    ZRX   \n",
       "3           3 2018-03-01 06:00:00   0x  8.726722e+06  9.102949e+06    ZRX   \n",
       "4           4 2018-03-01 08:00:00   0x  8.740869e+06  9.274604e+06    ZRX   \n",
       "\n",
       "      volume  \n",
       "0  8127100.0  \n",
       "1  7962720.0  \n",
       "2  7980440.0  \n",
       "3  7554380.0  \n",
       "4  7468790.0  "
      ]
     },
     "execution_count": 277,
     "metadata": {},
     "output_type": "execute_result"
    }
   ],
   "source": [
    "prices[prices['ticker'] == 'ZRX'].head()"
   ]
  },
  {
   "cell_type": "code",
   "execution_count": 278,
   "metadata": {},
   "outputs": [
    {
     "data": {
      "text/plain": [
       "[<matplotlib.lines.Line2D at 0x159e1efcfd0>]"
      ]
     },
     "execution_count": 278,
     "metadata": {},
     "output_type": "execute_result"
    }
   ],
   "source": [
    "for wallet_sender in lst_senders:\n",
    "    dfx = df2[df2.wallet == wallet_sender].sort_values('ts')\n",
    "    #plt.plot(dfx.ts, np.cumsum(dfx.value), linewidth = 1, markersize = 3)\n",
    "    plt.plot(dfx.ts, np.cumsum(dfx.value), 'o', linewidth = 1, markersize = 3)\n",
    "#plt.legend(lst_senders)\n",
    "\n",
    "dfx = prices[prices.ticker == 'ZRX'].sort_values('datetime')\n",
    "plt.plot(dfx.datetime, dfx.priceBtc, linewidth = 1, markersize = 3)\n",
    "plt.plot(dfx.datetime, dfx.priceUsd, linewidth = 1, markersize = 3)"
   ]
  },
  {
   "cell_type": "code",
   "execution_count": null,
   "metadata": {},
   "outputs": [],
   "source": []
  }
 ],
 "metadata": {
  "kernelspec": {
   "display_name": "Python 3",
   "language": "python",
   "name": "python3"
  },
  "language_info": {
   "codemirror_mode": {
    "name": "ipython",
    "version": 3
   },
   "file_extension": ".py",
   "mimetype": "text/x-python",
   "name": "python",
   "nbconvert_exporter": "python",
   "pygments_lexer": "ipython3",
   "version": "3.6.5"
  }
 },
 "nbformat": 4,
 "nbformat_minor": 2
}
